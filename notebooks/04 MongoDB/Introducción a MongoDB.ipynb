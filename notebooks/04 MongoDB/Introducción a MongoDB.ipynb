{
 "cells": [
  {
   "cell_type": "markdown",
   "id": "billion-robinson",
   "metadata": {},
   "source": [
    "# Introducción a MongoDB y Python"
   ]
  },
  {
   "cell_type": "markdown",
   "id": "alike-behalf",
   "metadata": {},
   "source": [
    "Instalar pymongo"
   ]
  },
  {
   "cell_type": "code",
   "execution_count": 1,
   "id": "herbal-generic",
   "metadata": {},
   "outputs": [
    {
     "name": "stdout",
     "output_type": "stream",
     "text": [
      "Collecting pymongo\n",
      "  Downloading pymongo-3.11.3-cp38-cp38-manylinux2014_x86_64.whl (531 kB)\n",
      "\u001b[K     |████████████████████████████████| 531 kB 1.5 MB/s eta 0:00:01\n",
      "\u001b[?25hInstalling collected packages: pymongo\n",
      "Successfully installed pymongo-3.11.3\n"
     ]
    }
   ],
   "source": [
    "try:\n",
    "    import pymmongo\n",
    "except:\n",
    "    !pip install pymongo"
   ]
  },
  {
   "cell_type": "markdown",
   "id": "devoted-organ",
   "metadata": {},
   "source": [
    "Importar pymongo"
   ]
  },
  {
   "cell_type": "code",
   "execution_count": 2,
   "id": "economic-choir",
   "metadata": {},
   "outputs": [],
   "source": [
    "from pymongo import MongoClient"
   ]
  },
  {
   "cell_type": "code",
   "execution_count": 64,
   "id": "after-hudson",
   "metadata": {},
   "outputs": [],
   "source": [
    "# mongodb, es el nombre del contenedor de mongo en Docker\n",
    "client = MongoClient(\"mongodb\", 27017)"
   ]
  },
  {
   "cell_type": "code",
   "execution_count": 65,
   "id": "organized-authority",
   "metadata": {},
   "outputs": [],
   "source": [
    "# example es el nombre de la base de datos\n",
    "db = client['example']\n",
    "contactos = db.contacto"
   ]
  },
  {
   "cell_type": "code",
   "execution_count": 6,
   "id": "backed-disclosure",
   "metadata": {},
   "outputs": [
    {
     "data": {
      "text/plain": [
       "'example'"
      ]
     },
     "execution_count": 6,
     "metadata": {},
     "output_type": "execute_result"
    }
   ],
   "source": [
    "db.name"
   ]
  },
  {
   "cell_type": "code",
   "execution_count": 7,
   "id": "correct-reply",
   "metadata": {},
   "outputs": [
    {
     "data": {
      "text/plain": [
       "Collection(Database(MongoClient(host=['mongodb:27017'], document_class=dict, tz_aware=False, connect=True), 'example'), 'contacto')"
      ]
     },
     "execution_count": 7,
     "metadata": {},
     "output_type": "execute_result"
    }
   ],
   "source": [
    "db.contacto"
   ]
  },
  {
   "cell_type": "markdown",
   "id": "sonic-metallic",
   "metadata": {},
   "source": [
    "Insertar datos desde Python a MongoDB"
   ]
  },
  {
   "cell_type": "code",
   "execution_count": 69,
   "id": "breeding-night",
   "metadata": {},
   "outputs": [
    {
     "name": "stdout",
     "output_type": "stream",
     "text": [
      "607637d1607e8f817dd3aaf9\n"
     ]
    }
   ],
   "source": [
    "# Insertar de datos desde Python a MongoDB\n",
    "new_contact = {\"nombre\":\"Pepito\", \"apellidos\":\"Perez\", \"edad\": 20}\n",
    "insert = contactos.insert_one(new_contact)\n",
    "print(insert.inserted_id)"
   ]
  },
  {
   "cell_type": "code",
   "execution_count": 71,
   "id": "entire-volleyball",
   "metadata": {},
   "outputs": [
    {
     "data": {
      "text/plain": [
       "<pymongo.results.InsertManyResult at 0x7f778415df00>"
      ]
     },
     "execution_count": 71,
     "metadata": {},
     "output_type": "execute_result"
    }
   ],
   "source": [
    "# Insertar muchos datos desde Python a MongoDB\n",
    "contactos.insert_many([\n",
    "    {\"nombre\":\"Albert\", \"apellidos\":\"Einstein\", \"edad\": 55},\n",
    "    {\"nombre\":\"Nicola\", \"apellidos\":\"Tesla\", \"edad\": 80}\n",
    "])"
   ]
  },
  {
   "cell_type": "markdown",
   "id": "contemporary-cross",
   "metadata": {},
   "source": [
    "Consultas en MongoDB"
   ]
  },
  {
   "cell_type": "code",
   "execution_count": 40,
   "id": "running-ethernet",
   "metadata": {},
   "outputs": [
    {
     "name": "stdout",
     "output_type": "stream",
     "text": [
      "{'_id': ObjectId('60762a73607e8f817dd3aaeb'), 'nombre': 'Pepito', 'apellidos': 'Perez', 'edad': 20}\n"
     ]
    }
   ],
   "source": [
    "# Consulta por ObjectId\n",
    "from bson.objectid import ObjectId\n",
    "\n",
    "query = contactos.find_one({\"_id\": ObjectId(\"60762a73607e8f817dd3aaeb\")})\n",
    "print(query)"
   ]
  },
  {
   "cell_type": "code",
   "execution_count": 46,
   "id": "significant-tucson",
   "metadata": {},
   "outputs": [
    {
     "name": "stdout",
     "output_type": "stream",
     "text": [
      "{'_id': ObjectId('60762a73607e8f817dd3aaeb'), 'nombre': 'Pepito', 'apellidos': 'Perez', 'edad': 20}\n"
     ]
    }
   ],
   "source": [
    "query = contactos.find_one({\"nombre\": \"Pepito\"})\n",
    "print(query)"
   ]
  },
  {
   "cell_type": "code",
   "execution_count": 48,
   "id": "floral-sierra",
   "metadata": {},
   "outputs": [
    {
     "name": "stdout",
     "output_type": "stream",
     "text": [
      "{'_id': ObjectId('60762a73607e8f817dd3aaeb'), 'nombre': 'Pepito', 'apellidos': 'Perez', 'edad': 20}\n",
      "{'_id': ObjectId('60762a76607e8f817dd3aaec'), 'nombre': 'Albert', 'apellidos': 'Einstein', 'edad': 55}\n",
      "{'_id': ObjectId('60762a76607e8f817dd3aaed'), 'nombre': 'Nicola', 'apellidos': 'Tesla', 'edad': 80}\n"
     ]
    }
   ],
   "source": [
    "query_all = contactos.find()\n",
    "\n",
    "for record in query_all:\n",
    "    print(record)"
   ]
  },
  {
   "cell_type": "markdown",
   "id": "featured-undergraduate",
   "metadata": {},
   "source": [
    "Actualizar datos"
   ]
  },
  {
   "cell_type": "code",
   "execution_count": 61,
   "id": "green-richardson",
   "metadata": {},
   "outputs": [
    {
     "name": "stdout",
     "output_type": "stream",
     "text": [
      "{'_id': ObjectId('607632c7607e8f817dd3aaf0'), 'nombre': 'Nuevo', 'apellidos': 'Tesla', 'edad': 80}\n"
     ]
    }
   ],
   "source": [
    "query = contactos.find_one( {\"_id\": ObjectId(\"607632c7607e8f817dd3aaf0\")} )\n",
    "print(query)"
   ]
  },
  {
   "cell_type": "code",
   "execution_count": 60,
   "id": "bacterial-peter",
   "metadata": {},
   "outputs": [
    {
     "name": "stdout",
     "output_type": "stream",
     "text": [
      "<pymongo.results.UpdateResult object at 0x7f7784077dc0>\n"
     ]
    }
   ],
   "source": [
    "update = contactos.update_one({\"_id\": ObjectId(\"607632c7607e8f817dd3aaf0\")}, {\"$set\":{\"nombre\": \"Nuevo\"}})\n",
    "print(update)"
   ]
  },
  {
   "cell_type": "markdown",
   "id": "fluid-thing",
   "metadata": {},
   "source": [
    "Eliminar datos"
   ]
  },
  {
   "cell_type": "code",
   "execution_count": 51,
   "id": "engaging-graham",
   "metadata": {},
   "outputs": [],
   "source": [
    "delete = contactos.delete_one({\"nombre\": \"Pepito\"})"
   ]
  },
  {
   "cell_type": "code",
   "execution_count": 54,
   "id": "smoking-ethics",
   "metadata": {},
   "outputs": [],
   "source": [
    "delete_many = contactos.delete_many({\"nombre\": \"Pepito\"})"
   ]
  }
 ],
 "metadata": {
  "kernelspec": {
   "display_name": "Python 3",
   "language": "python",
   "name": "python3"
  },
  "language_info": {
   "codemirror_mode": {
    "name": "ipython",
    "version": 3
   },
   "file_extension": ".py",
   "mimetype": "text/x-python",
   "name": "python",
   "nbconvert_exporter": "python",
   "pygments_lexer": "ipython3",
   "version": "3.8.8"
  }
 },
 "nbformat": 4,
 "nbformat_minor": 5
}
