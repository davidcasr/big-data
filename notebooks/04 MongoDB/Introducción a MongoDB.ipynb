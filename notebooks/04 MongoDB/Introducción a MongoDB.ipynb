{
 "cells": [
  {
   "cell_type": "markdown",
   "id": "billion-robinson",
   "metadata": {},
   "source": [
    "# Introducción a MongoDB y Python"
   ]
  },
  {
   "cell_type": "markdown",
   "id": "alike-behalf",
   "metadata": {},
   "source": [
    "Instalar pymongo"
   ]
  },
  {
   "cell_type": "code",
   "execution_count": 2,
   "id": "herbal-generic",
   "metadata": {},
   "outputs": [
    {
     "name": "stdout",
     "output_type": "stream",
     "text": [
      "Collecting pymongo\n",
      "  Downloading pymongo-3.11.3-cp38-cp38-manylinux2014_x86_64.whl (531 kB)\n",
      "\u001b[K     |████████████████████████████████| 531 kB 3.0 MB/s eta 0:00:01\n",
      "\u001b[?25hInstalling collected packages: pymongo\n",
      "Successfully installed pymongo-3.11.3\n"
     ]
    }
   ],
   "source": [
    "try:\n",
    "    import pymmongo\n",
    "except:\n",
    "    !pip install pymongo"
   ]
  },
  {
   "cell_type": "markdown",
   "id": "devoted-organ",
   "metadata": {},
   "source": [
    "Importar pymongo"
   ]
  },
  {
   "cell_type": "code",
   "execution_count": 3,
   "id": "economic-choir",
   "metadata": {},
   "outputs": [],
   "source": [
    "from pymongo import MongoClient"
   ]
  },
  {
   "cell_type": "code",
   "execution_count": 24,
   "id": "after-hudson",
   "metadata": {},
   "outputs": [],
   "source": [
    "# mongodb, es el nombre del contenedor de mongo en Docker\n",
    "client = MongoClient(\"mongodb\", 27017)"
   ]
  },
  {
   "cell_type": "code",
   "execution_count": 25,
   "id": "organized-authority",
   "metadata": {},
   "outputs": [],
   "source": [
    "# david es el nombre de la base de datos\n",
    "db = client['david']\n",
    "contactos = db.contacto"
   ]
  },
  {
   "cell_type": "code",
   "execution_count": 26,
   "id": "backed-disclosure",
   "metadata": {},
   "outputs": [
    {
     "data": {
      "text/plain": [
       "'david'"
      ]
     },
     "execution_count": 26,
     "metadata": {},
     "output_type": "execute_result"
    }
   ],
   "source": [
    "db.name"
   ]
  },
  {
   "cell_type": "code",
   "execution_count": 27,
   "id": "correct-reply",
   "metadata": {},
   "outputs": [
    {
     "data": {
      "text/plain": [
       "Collection(Database(MongoClient(host=['mongodb:27017'], document_class=dict, tz_aware=False, connect=True), 'david'), 'contacto')"
      ]
     },
     "execution_count": 27,
     "metadata": {},
     "output_type": "execute_result"
    }
   ],
   "source": [
    "db.contacto"
   ]
  },
  {
   "cell_type": "markdown",
   "id": "sonic-metallic",
   "metadata": {},
   "source": [
    "Insertar datos desde Python a MongoDB"
   ]
  },
  {
   "cell_type": "code",
   "execution_count": 30,
   "id": "breeding-night",
   "metadata": {},
   "outputs": [
    {
     "name": "stdout",
     "output_type": "stream",
     "text": [
      "607525170f1ea59a9ece49b7\n"
     ]
    }
   ],
   "source": [
    "# Insertar de datos desde Python a MongoDB\n",
    "new_contact = {\"nombre\":\"Pepito\", \"apellidos\":\"Perez\", \"edad\": 20}\n",
    "insert = contactos.insert_one(new_contact)\n",
    "print(insert.inserted_id)"
   ]
  },
  {
   "cell_type": "code",
   "execution_count": 31,
   "id": "entire-volleyball",
   "metadata": {},
   "outputs": [
    {
     "data": {
      "text/plain": [
       "<pymongo.results.InsertManyResult at 0x7f7fc85201c0>"
      ]
     },
     "execution_count": 31,
     "metadata": {},
     "output_type": "execute_result"
    }
   ],
   "source": [
    "# Insertar muchos datos desde Python a MongoDB\n",
    "contactos.insert_many([\n",
    "    {\"nombre\":\"Albert\", \"apellidos\":\"Einstein\", \"edad\": 55},\n",
    "    {\"nombre\":\"Nicola\", \"apellidos\":\"Tesla\", \"edad\": 80}\n",
    "])"
   ]
  },
  {
   "cell_type": "markdown",
   "id": "contemporary-cross",
   "metadata": {},
   "source": [
    "Consultas en MongoDB"
   ]
  },
  {
   "cell_type": "code",
   "execution_count": 35,
   "id": "significant-tucson",
   "metadata": {},
   "outputs": [
    {
     "name": "stdout",
     "output_type": "stream",
     "text": [
      "{'_id': ObjectId('607524850f1ea59a9ece49b5'), 'nombre': 'Pepito', 'apellidos': 'Perez', 'edad': 25}\n"
     ]
    }
   ],
   "source": [
    "query = contactos.find_one({\"nombre\": \"Pepito\"})\n",
    "print(query)"
   ]
  }
 ],
 "metadata": {
  "kernelspec": {
   "display_name": "Python 3",
   "language": "python",
   "name": "python3"
  },
  "language_info": {
   "codemirror_mode": {
    "name": "ipython",
    "version": 3
   },
   "file_extension": ".py",
   "mimetype": "text/x-python",
   "name": "python",
   "nbconvert_exporter": "python",
   "pygments_lexer": "ipython3",
   "version": "3.8.8"
  }
 },
 "nbformat": 4,
 "nbformat_minor": 5
}
