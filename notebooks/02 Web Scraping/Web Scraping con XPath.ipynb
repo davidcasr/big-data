{
 "cells": [
  {
   "cell_type": "markdown",
   "id": "improved-monkey",
   "metadata": {},
   "source": [
    "# Web Scraping con XPath"
   ]
  },
  {
   "cell_type": "markdown",
   "id": "dressed-square",
   "metadata": {},
   "source": [
    "Scraper de las noticias de La Republica\n",
    "https://www.larepublica.co/\n",
    "\n",
    "*Versión 29 de Marzo 2021*"
   ]
  },
  {
   "cell_type": "markdown",
   "id": "offensive-latin",
   "metadata": {},
   "source": [
    "- Links = //div[@class=\"V_Trends\"]/h2/a/@href\n",
    "- Título = //div[@class=\"mb-auto\"]/h2/span/text()\n",
    "- Resumen = //div[@class=\"lead\"]/p/text()\n",
    "- Cuerpo = //div[@class=\"html-content\"]/p[not(@class)]/text()"
   ]
  },
  {
   "cell_type": "code",
   "execution_count": 56,
   "id": "capital-declaration",
   "metadata": {},
   "outputs": [],
   "source": [
    "# Instalar lxml\n",
    "try:\n",
    "    import lxml\n",
    "except:\n",
    "    !pip install lxml"
   ]
  },
  {
   "cell_type": "code",
   "execution_count": 57,
   "id": "above-stupid",
   "metadata": {},
   "outputs": [],
   "source": [
    "import requests\n",
    "import lxml.html as html"
   ]
  },
  {
   "cell_type": "code",
   "execution_count": 63,
   "id": "piano-prerequisite",
   "metadata": {},
   "outputs": [],
   "source": [
    "HOME_URL = 'https://www.larepublica.co/'\n",
    "\n",
    "XPATH_LINK_TO_ARTICLE = '//text-fill[not(@class)]/a/@href'\n",
    "XPATH_TITLE = '/div[@class=\"mb-auto\"]/h2/span/text()'\n",
    "XPATH_SUMMARY = '//div[@class=\"lead\"]/p/text()'\n",
    "XPATH_BODY = '/div[@class=\"html-content\"]/p[not(@class)]/text()'"
   ]
  },
  {
   "cell_type": "code",
   "execution_count": 65,
   "id": "working-socket",
   "metadata": {},
   "outputs": [
    {
     "name": "stdout",
     "output_type": "stream",
     "text": [
      "Cantidad de Links:  69\n"
     ]
    }
   ],
   "source": [
    "def parse_home():\n",
    "    try:\n",
    "        response = requests.get(HOME_URL)\n",
    "        \n",
    "        if response.status_code == 200:\n",
    "            home = response.content.decode('utf-8')\n",
    "            parsed = html.fromstring(home)\n",
    "    \n",
    "            links_to_notices = parsed.xpath(XPATH_LINK_TO_ARTICLE)\n",
    "            print(\"Cantidad de Links: \", len(links_to_notices))\n",
    "            # Imprimir todos los links de noticias\n",
    "            # print(links_to_notices)\n",
    "            \n",
    "        else:\n",
    "            raise ValueError(f\"Error: {response.status_code}\")\n",
    "\n",
    "\n",
    "    except ValueError as ve: \n",
    "        print(ve)\n",
    "\n",
    "def main():\n",
    "    parse_home()\n",
    "\n",
    "if __name__ == '__main__':\n",
    "    main()"
   ]
  },
  {
   "cell_type": "code",
   "execution_count": null,
   "id": "ideal-extension",
   "metadata": {},
   "outputs": [],
   "source": []
  }
 ],
 "metadata": {
  "kernelspec": {
   "display_name": "Python 3",
   "language": "python",
   "name": "python3"
  },
  "language_info": {
   "codemirror_mode": {
    "name": "ipython",
    "version": 3
   },
   "file_extension": ".py",
   "mimetype": "text/x-python",
   "name": "python",
   "nbconvert_exporter": "python",
   "pygments_lexer": "ipython3",
   "version": "3.8.8"
  }
 },
 "nbformat": 4,
 "nbformat_minor": 5
}
