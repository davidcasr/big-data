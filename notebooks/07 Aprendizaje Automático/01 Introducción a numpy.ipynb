{
 "cells": [
  {
   "cell_type": "markdown",
   "id": "agreed-expression",
   "metadata": {},
   "source": [
    "# Introducción a numpy"
   ]
  },
  {
   "cell_type": "code",
   "execution_count": 1,
   "id": "heard-tender",
   "metadata": {},
   "outputs": [],
   "source": [
    "import numpy as np "
   ]
  },
  {
   "cell_type": "code",
   "execution_count": 2,
   "id": "reverse-optics",
   "metadata": {},
   "outputs": [
    {
     "data": {
      "text/plain": [
       "array([10, 20, 24,  5, 15, 50])"
      ]
     },
     "execution_count": 2,
     "metadata": {},
     "output_type": "execute_result"
    }
   ],
   "source": [
    "np.array([10, 20, 24, 5, 15, 50])"
   ]
  },
  {
   "cell_type": "code",
   "execution_count": 4,
   "id": "worth-hindu",
   "metadata": {},
   "outputs": [
    {
     "data": {
      "text/plain": [
       "15"
      ]
     },
     "execution_count": 4,
     "metadata": {},
     "output_type": "execute_result"
    }
   ],
   "source": [
    "a = np.array([10, 20, 24, 5, 15, 50, 120])\n",
    "a[4]"
   ]
  },
  {
   "cell_type": "code",
   "execution_count": 5,
   "id": "latin-globe",
   "metadata": {},
   "outputs": [
    {
     "data": {
      "text/plain": [
       "array([  5,  15,  50, 120])"
      ]
     },
     "execution_count": 5,
     "metadata": {},
     "output_type": "execute_result"
    }
   ],
   "source": [
    "a[3:]"
   ]
  },
  {
   "cell_type": "code",
   "execution_count": 6,
   "id": "coordinate-accountability",
   "metadata": {},
   "outputs": [
    {
     "data": {
      "text/plain": [
       "array([  5,  15,  50, 120])"
      ]
     },
     "execution_count": 6,
     "metadata": {},
     "output_type": "execute_result"
    }
   ],
   "source": [
    "a[3:7]"
   ]
  },
  {
   "cell_type": "code",
   "execution_count": 7,
   "id": "pursuant-disposition",
   "metadata": {},
   "outputs": [
    {
     "data": {
      "text/plain": [
       "array([20, 50])"
      ]
     },
     "execution_count": 7,
     "metadata": {},
     "output_type": "execute_result"
    }
   ],
   "source": [
    "a[1::4]"
   ]
  },
  {
   "cell_type": "code",
   "execution_count": 8,
   "id": "trying-hygiene",
   "metadata": {},
   "outputs": [
    {
     "data": {
      "text/plain": [
       "array([0., 0., 0., 0., 0.])"
      ]
     },
     "execution_count": 8,
     "metadata": {},
     "output_type": "execute_result"
    }
   ],
   "source": [
    "np.zeros(5)"
   ]
  },
  {
   "cell_type": "code",
   "execution_count": 9,
   "id": "geographic-variety",
   "metadata": {},
   "outputs": [
    {
     "data": {
      "text/plain": [
       "array([[1., 1., 1., 1., 1.],\n",
       "       [1., 1., 1., 1., 1.],\n",
       "       [1., 1., 1., 1., 1.],\n",
       "       [1., 1., 1., 1., 1.]])"
      ]
     },
     "execution_count": 9,
     "metadata": {},
     "output_type": "execute_result"
    }
   ],
   "source": [
    "np.ones((4, 5))"
   ]
  },
  {
   "cell_type": "code",
   "execution_count": 14,
   "id": "controlling-briefing",
   "metadata": {},
   "outputs": [
    {
     "data": {
      "text/plain": [
       "array([ 3.  ,  4.75,  6.5 ,  8.25, 10.  ])"
      ]
     },
     "execution_count": 14,
     "metadata": {},
     "output_type": "execute_result"
    }
   ],
   "source": [
    "np.linspace(3, 10, 5)"
   ]
  },
  {
   "cell_type": "code",
   "execution_count": 16,
   "id": "uniform-fleece",
   "metadata": {},
   "outputs": [
    {
     "data": {
      "text/plain": [
       "array([['x', 'y', 'z'],\n",
       "       ['a', 'c', 'b']], dtype='<U1')"
      ]
     },
     "execution_count": 16,
     "metadata": {},
     "output_type": "execute_result"
    }
   ],
   "source": [
    "b= np.array([['x','y','z'], ['a','c','b']])\n",
    "b"
   ]
  },
  {
   "cell_type": "code",
   "execution_count": 17,
   "id": "twelve-skating",
   "metadata": {},
   "outputs": [
    {
     "data": {
      "text/plain": [
       "2"
      ]
     },
     "execution_count": 17,
     "metadata": {},
     "output_type": "execute_result"
    }
   ],
   "source": [
    "b.ndim"
   ]
  },
  {
   "cell_type": "code",
   "execution_count": 19,
   "id": "noticed-registration",
   "metadata": {},
   "outputs": [
    {
     "data": {
      "text/plain": [
       "array([ 2,  4, 10, 12, 40])"
      ]
     },
     "execution_count": 19,
     "metadata": {},
     "output_type": "execute_result"
    }
   ],
   "source": [
    "c = [12, 4, 10, 40, 2]\n",
    "np.sort(c)"
   ]
  },
  {
   "cell_type": "code",
   "execution_count": 21,
   "id": "offensive-lambda",
   "metadata": {},
   "outputs": [
    {
     "data": {
      "text/plain": [
       "array([(b'Amelie', 21, b'Francesa'), (b'Alejandra', 22, b'Cubana'),\n",
       "       (b'Valentina', 25, b'Inglesa'), (b'Valerie', 30, b'Canadiense')],\n",
       "      dtype=[('nombre', 'S10'), ('edad', '<i8'), ('nacionalidad', 'S100')])"
      ]
     },
     "execution_count": 21,
     "metadata": {},
     "output_type": "execute_result"
    }
   ],
   "source": [
    "headers = [('nombre','S10'), ('edad', int), ('nacionalidad','S100')]\n",
    "data = [('Amelie',21,'Francesa'), \n",
    "         ('Valerie', 30,'Canadiense'),\n",
    "         ('Valentina',25,'Inglesa'),\n",
    "         ('Alejandra',22,'Cubana')]\n",
    "users = np.array(data, dtype=headers)\n",
    "\n",
    "np.sort(users, order='edad')"
   ]
  },
  {
   "cell_type": "code",
   "execution_count": 22,
   "id": "dependent-bread",
   "metadata": {},
   "outputs": [
    {
     "data": {
      "text/plain": [
       "array([ 0,  1,  2,  3,  4,  5,  6,  7,  8,  9, 10, 11, 12, 13, 14, 15, 16,\n",
       "       17, 18, 19, 20, 21, 22, 23, 24])"
      ]
     },
     "execution_count": 22,
     "metadata": {},
     "output_type": "execute_result"
    }
   ],
   "source": [
    "np.arange(25)"
   ]
  },
  {
   "cell_type": "code",
   "execution_count": 24,
   "id": "another-spank",
   "metadata": {},
   "outputs": [
    {
     "data": {
      "text/plain": [
       "array([ 5,  6,  7,  8,  9, 10, 11, 12, 13, 14, 15, 16, 17, 18, 19, 20, 21,\n",
       "       22, 23, 24, 25, 26, 27, 28, 29])"
      ]
     },
     "execution_count": 24,
     "metadata": {},
     "output_type": "execute_result"
    }
   ],
   "source": [
    "np.arange(5,30)"
   ]
  },
  {
   "cell_type": "code",
   "execution_count": 25,
   "id": "coordinated-distributor",
   "metadata": {},
   "outputs": [
    {
     "data": {
      "text/plain": [
       "array([ 5, 10, 15, 20, 25, 30, 35, 40, 45])"
      ]
     },
     "execution_count": 25,
     "metadata": {},
     "output_type": "execute_result"
    }
   ],
   "source": [
    "np.arange(5, 50, 5)"
   ]
  },
  {
   "cell_type": "code",
   "execution_count": 26,
   "id": "thermal-cartridge",
   "metadata": {},
   "outputs": [
    {
     "data": {
      "text/plain": [
       "array([[10, 10, 10, 10, 10],\n",
       "       [10, 10, 10, 10, 10],\n",
       "       [10, 10, 10, 10, 10]])"
      ]
     },
     "execution_count": 26,
     "metadata": {},
     "output_type": "execute_result"
    }
   ],
   "source": [
    "np.full((3,5), 10)"
   ]
  },
  {
   "cell_type": "code",
   "execution_count": 27,
   "id": "future-maintenance",
   "metadata": {},
   "outputs": [
    {
     "data": {
      "text/plain": [
       "array([[ 0,  0,  0,  0],\n",
       "       [ 0,  3,  0,  0],\n",
       "       [ 0,  0,  9,  0],\n",
       "       [ 0,  0,  0, 10]])"
      ]
     },
     "execution_count": 27,
     "metadata": {},
     "output_type": "execute_result"
    }
   ],
   "source": [
    "np.diag([0,3,9,10])"
   ]
  }
 ],
 "metadata": {
  "kernelspec": {
   "display_name": "Python 3",
   "language": "python",
   "name": "python3"
  },
  "language_info": {
   "codemirror_mode": {
    "name": "ipython",
    "version": 3
   },
   "file_extension": ".py",
   "mimetype": "text/x-python",
   "name": "python",
   "nbconvert_exporter": "python",
   "pygments_lexer": "ipython3",
   "version": "3.8.8"
  }
 },
 "nbformat": 4,
 "nbformat_minor": 5
}
